{
 "cells": [
  {
   "attachments": {},
   "cell_type": "markdown",
   "metadata": {},
   "source": [
    "#### Probabilistic Clustering with Gaussian Mixture Models "
   ]
  },
  {
   "attachments": {},
   "cell_type": "markdown",
   "metadata": {},
   "source": [
    "###### In `K-Means` we assume that variance of the clusters is equal, however, in the cases were variances vary, `GMM` can be used"
   ]
  },
  {
   "cell_type": "code",
   "execution_count": 1,
   "metadata": {},
   "outputs": [],
   "source": [
    "#Simple Example using simulation of heights of both women and men \n",
    "\n",
    "import numpy as np \n",
    "N = 1000\n",
    "m_height_men = 72 #Mean height of men\n",
    "m_height_women = 66 #mean height of women\n",
    "std_men = 2 #standard deviation of men height\n",
    "std_women = 2 #standard deviation of women height"
   ]
  },
  {
   "cell_type": "code",
   "execution_count": 2,
   "metadata": {},
   "outputs": [
    {
     "data": {
      "text/plain": [
       "<matplotlib.legend.Legend at 0x1ffa1787b20>"
      ]
     },
     "execution_count": 2,
     "metadata": {},
     "output_type": "execute_result"
    },
    {
     "data": {
      "image/png": "[encoded data removed]",
      "text/plain": [
       "<Figure size 720x504 with 1 Axes>"
      ]
     },
     "metadata": {
      "needs_background": "light"
     },
     "output_type": "display_data"
    }
   ],
   "source": [
    "men = np.random.normal(m_height_men, std_men, N)\n",
    "women = np.random.normal(m_height_women, std_women, N)\n",
    "\n",
    "import matplotlib.pyplot as plt\n",
    "%matplotlib inline \n",
    "\n",
    "fig, ax = plt.subplots(figsize=(10,7))\n",
    "ax.set_title(\"Histogram of Heights\")\n",
    "ax.hist(men, alpha=0.5, label=\"Men\")\n",
    "ax.hist(women, alpha=0.5, label=\"Women\")\n",
    "ax.legend()"
   ]
  },
  {
   "cell_type": "code",
   "execution_count": 3,
   "metadata": {},
   "outputs": [],
   "source": [
    "#Creating test and train samples \n",
    "\n",
    "random_samples = np.random.choice([True, False],size=men.size)\n",
    "men_test = men[random_samples]\n",
    "men_train = men[~random_samples]\n",
    "women_test = women[random_samples]\n",
    "women_train = women[~random_samples]"
   ]
  },
  {
   "cell_type": "code",
   "execution_count": 4,
   "metadata": {},
   "outputs": [],
   "source": [
    "#Getting empirical distribution of the heights of both men and women \n",
    "\n",
    "from scipy import stats \n",
    "men_pdf = stats.norm(men_train.mean(),men_train.std())\n",
    "women_pdf = stats.norm(women_train.mean(), women_train.std())"
   ]
  },
  {
   "cell_type": "code",
   "execution_count": 5,
   "metadata": {},
   "outputs": [
    {
     "data": {
      "text/plain": [
       "0.033085369053765426"
      ]
     },
     "execution_count": 5,
     "metadata": {},
     "output_type": "execute_result"
    }
   ],
   "source": [
    "#Next, we will calculate based on the likelihood that the data point was generated from either distribution, and the most likely distribution will get the appropriate label assigned \n",
    "\n",
    "men_pdf.pdf(men[0])"
   ]
  },
  {
   "cell_type": "code",
   "execution_count": 6,
   "metadata": {},
   "outputs": [
    {
     "data": {
      "text/plain": [
       "0.19033782241577527"
      ]
     },
     "execution_count": 6,
     "metadata": {},
     "output_type": "execute_result"
    }
   ],
   "source": [
    "women_pdf.pdf(women[0])"
   ]
  },
  {
   "cell_type": "code",
   "execution_count": 7,
   "metadata": {},
   "outputs": [],
   "source": [
    "#Lets assume situations when the men's probability is higher \n",
    "\n",
    "guess_men = np.ones_like(men_test)\n",
    "guess_men[men_pdf.pdf(men_test) < women_pdf.pdf(men_test)] = 0"
   ]
  },
  {
   "cell_type": "code",
   "execution_count": 8,
   "metadata": {},
   "outputs": [
    {
     "data": {
      "text/plain": [
       "0.9342915811088296"
      ]
     },
     "execution_count": 8,
     "metadata": {},
     "output_type": "execute_result"
    }
   ],
   "source": [
    "#guees_men will be 1 if we are correct, and close to 0 if we are not, taking the mean of the vector and get the accuracy \n",
    "guess_men.mean()"
   ]
  },
  {
   "cell_type": "code",
   "execution_count": 9,
   "metadata": {},
   "outputs": [
    {
     "data": {
      "text/plain": [
       "1.0"
      ]
     },
     "execution_count": 9,
     "metadata": {},
     "output_type": "execute_result"
    }
   ],
   "source": [
    "guess_women = np.ones_like(women_test)\n",
    "guess_women[women_pdf.pdf(women_test) > women_pdf.pdf(women_test)] = 0 \n",
    "guess_women.mean()"
   ]
  },
  {
   "cell_type": "code",
   "execution_count": 11,
   "metadata": {},
   "outputs": [
    {
     "data": {
      "text/plain": [
       "<matplotlib.legend.Legend at 0x1ffb396d790>"
      ]
     },
     "execution_count": 11,
     "metadata": {},
     "output_type": "execute_result"
    },
    {
     "data": {
      "image/png": "[encoded data removed]",
      "text/plain": [
       "<Figure size 720x504 with 1 Axes>"
      ]
     },
     "metadata": {
      "needs_background": "light"
     },
     "output_type": "display_data"
    }
   ],
   "source": [
    "#If we allow the variance to differ between groups \n",
    "\n",
    "std_men = 2 \n",
    "std_women = 4\n",
    "\n",
    "men = np.random.normal(m_height_men, std_men, N)\n",
    "women = np.random.normal(m_height_women, std_women, N)\n",
    "\n",
    "\n",
    "\n",
    "men_test = men[random_samples]\n",
    "men_train = men[~random_samples]\n",
    "women_test = women[random_samples]\n",
    "women_train = women[~random_samples]\n",
    "\n",
    "fig, ax = plt.subplots(figsize=(10,7))\n",
    "ax.set_title(\"Histogram of Heights\")\n",
    "ax.hist(men_train, alpha=0.5, label=\"Men\")\n",
    "ax.hist(women_train, alpha=0.5, label=\"Women\")\n",
    "ax.legend()"
   ]
  },
  {
   "cell_type": "code",
   "execution_count": 12,
   "metadata": {},
   "outputs": [],
   "source": [
    "#CREATING PDF\n",
    "\n",
    "men_pdf = stats.norm(men_train.mean(), men_train.std())\n",
    "women_pdf = stats.norm(women_train.mean(), women_train.std())\n"
   ]
  },
  {
   "cell_type": "code",
   "execution_count": 13,
   "metadata": {},
   "outputs": [
    {
     "name": "stderr",
     "output_type": "stream",
     "text": [
      "C:\\Users\\konar\\AppData\\Local\\Temp\\ipykernel_13388\\1629018551.py:4: UserWarning: color is redundantly defined by the 'color' keyword argument and the fmt string \"k\" (-> color=(0.0, 0.0, 0.0, 1)). The keyword argument will take precedence.\n",
      "  plt.plot(x, men_pdf.pdf(x), 'k',linewidth=2, color='blue',label='Men')\n",
      "C:\\Users\\konar\\AppData\\Local\\Temp\\ipykernel_13388\\1629018551.py:5: UserWarning: color is redundantly defined by the 'color' keyword argument and the fmt string \"k\" (-> color=(0.0, 0.0, 0.0, 1)). The keyword argument will take precedence.\n",
      "  plt.plot(x, women_pdf.pdf(x),'k', linewidth=2, color='green',label='Women')\n"
     ]
    },
    {
     "data": {
      "text/plain": [
       "[<matplotlib.lines.Line2D at 0x1ffb44923a0>]"
      ]
     },
     "execution_count": 13,
     "metadata": {},
     "output_type": "execute_result"
    },
    {
     "data": {
      "image/png": "[encoded data removed]",
      "text/plain": [
       "<Figure size 576x360 with 1 Axes>"
      ]
     },
     "metadata": {
      "needs_background": "light"
     },
     "output_type": "display_data"
    }
   ],
   "source": [
    "x = np.linspace(50,80,300)\n",
    "plt.figure(figsize=(8,5))\n",
    "plt.title(\"PDF of Heights\")\n",
    "plt.plot(x, men_pdf.pdf(x), 'k',linewidth=2, color='blue',label='Men')\n",
    "plt.plot(x, women_pdf.pdf(x),'k', linewidth=2, color='green',label='Women')\n",
    "\n"
   ]
  },
  {
   "cell_type": "code",
   "execution_count": 15,
   "metadata": {},
   "outputs": [
    {
     "data": {
      "text/plain": [
       "<matplotlib.collections.PathCollection at 0x1ffb462d7c0>"
      ]
     },
     "execution_count": 15,
     "metadata": {},
     "output_type": "execute_result"
    },
    {
     "data": {
      "image/png": "[encoded data removed]",
      "text/plain": [
       "<Figure size 576x360 with 1 Axes>"
      ]
     },
     "metadata": {
      "needs_background": "light"
     },
     "output_type": "display_data"
    }
   ],
   "source": [
    "class_A = np.random.normal(0,1,size=(100,2))\n",
    "class_B = np.random.normal(4, 1.5, size=(100,2))\n",
    "\n",
    "fig, ax = plt.subplots(figsize=(8,5))\n",
    "plt.title(\"Random 2D Normal Draws\")\n",
    "ax.scatter(class_A[:,0],class_A[:,1],label='A',c='r')\n",
    "ax.scatter(class_B[:,0],class_B[:,1],label='B')"
   ]
  },
  {
   "attachments": {},
   "cell_type": "markdown",
   "metadata": {},
   "source": [
    "##### Let's do `GMM` with scikit now"
   ]
  },
  {
   "cell_type": "code",
   "execution_count": 17,
   "metadata": {},
   "outputs": [
    {
     "data": {
      "text/plain": [
       "{'covariance_type': 'full',\n",
       " 'init_params': 'kmeans',\n",
       " 'max_iter': 100,\n",
       " 'means_init': None,\n",
       " 'n_components': 1,\n",
       " 'n_init': 1,\n",
       " 'precisions_init': None,\n",
       " 'random_state': None,\n",
       " 'reg_covar': 1e-06,\n",
       " 'tol': 0.001,\n",
       " 'verbose': 0,\n",
       " 'verbose_interval': 10,\n",
       " 'warm_start': False,\n",
       " 'weights_init': None}"
      ]
     },
     "execution_count": 17,
     "metadata": {},
     "output_type": "execute_result"
    }
   ],
   "source": [
    "from sklearn.mixture import GaussianMixture \n",
    "gmm = GaussianMixture()\n",
    "\n",
    "X = np.row_stack((class_A, class_B))\n",
    "y = np.hstack((np.ones(100), np.zeros(100)))\n",
    "\n",
    "\n",
    "train = np.random.choice([True, False],200)\n",
    "gmm.fit(X[train])\n",
    "gmm.get_params()"
   ]
  },
  {
   "cell_type": "code",
   "execution_count": 18,
   "metadata": {},
   "outputs": [
    {
     "data": {
      "text/plain": [
       "array([0, 0, 0, 0, 0], dtype=int64)"
      ]
     },
     "execution_count": 18,
     "metadata": {},
     "output_type": "execute_result"
    }
   ],
   "source": [
    "gmm.predict(X[train])[:5]"
   ]
  },
  {
   "cell_type": "code",
   "execution_count": 19,
   "metadata": {},
   "outputs": [
    {
     "data": {
      "text/plain": [
       "array([[ 0.09858459, -0.09169468],\n",
       "       [-1.65217131,  2.41911118],\n",
       "       [-0.5897825 ,  1.00045122],\n",
       "       [ 0.25167112,  0.17502491],\n",
       "       [ 0.87847771,  0.56666034]])"
      ]
     },
     "execution_count": 19,
     "metadata": {},
     "output_type": "execute_result"
    }
   ],
   "source": [
    "X[train][:5]"
   ]
  },
  {
   "cell_type": "code",
   "execution_count": null,
   "metadata": {},
   "outputs": [],
   "source": []
  }
 ],
 "metadata": {
  "kernelspec": {
   "display_name": "Python 3",
   "language": "python",
   "name": "python3"
  },
  "language_info": {
   "codemirror_mode": {
    "name": "ipython",
    "version": 3
   },
   "file_extension": ".py",
   "mimetype": "text/x-python",
   "name": "python",
   "nbconvert_exporter": "python",
   "pygments_lexer": "ipython3",
   "version": "3.9.9"
  },
  "orig_nbformat": 4
 },
 "nbformat": 4,
 "nbformat_minor": 2
}
