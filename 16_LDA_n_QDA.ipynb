{
 "cells": [
  {
   "attachments": {},
   "cell_type": "markdown",
   "metadata": {},
   "source": [
    "`LDA` and `QDA` with covariance ellipsoid"
   ]
  },
  {
   "cell_type": "code",
   "execution_count": 1,
   "metadata": {},
   "outputs": [],
   "source": [
    "import matplotlib.pyplot as plt \n",
    "import matplotlib as mpl \n",
    "from matplotlib import colors "
   ]
  },
  {
   "cell_type": "code",
   "execution_count": 3,
   "metadata": {},
   "outputs": [],
   "source": [
    "cmap = colors.LinearSegmentedColormap(\n",
    "    \"red_blue_classes\",\n",
    "    {\n",
    "    \"red\":[(0,1,1),(1,0.7,0.7)],\n",
    "    \"green\":[(0,0.7,0.7),(1,0.7,0.7)],\n",
    "    \"blue\":[(0,0.7,0.7),(1,1,1)],\n",
    "    },\n",
    ")\n",
    "plt.cm.register_cmap(cmap=cmap)"
   ]
  },
  {
   "cell_type": "code",
   "execution_count": 4,
   "metadata": {},
   "outputs": [],
   "source": [
    "#Datasets generation functions \n",
    "\n",
    "import numpy as np \n",
    "\n",
    "def dataset_fixed_cov():\n",
    "    \"\"\"Generate 2 Gaussians samples with same covariance matrix\"\"\"\n",
    "    n, dim = 300, 2\n",
    "    np.random.seed(0)\n",
    "    C = np.array([[0.0,-0.23],[0.83,0.23]])\n",
    "    X = np.r_[\n",
    "        np.dot(np.random.randn(n, dim), C),\n",
    "        np.dot(np.random.randn(n,dim), C) + np.array([1,1]),\n",
    "        ]\n",
    "    y = np.hstack((np.zeros(n),np.ones(n)))\n",
    "    return X,y \n",
    "\n",
    "\n",
    "def dataset_cov():\n",
    "    \"\"\"Generate 2 Gaussians samples with different covariance matrices\"\"\"\n",
    "    n, dim = 300,2\n",
    "    np.random.seed(0)\n",
    "    C = np.array([[0.0,-1.0],[2.5,0.7]]) * 2.0\n",
    "    X = np.r_[\n",
    "        np.dot(np.random.randn(n,dim),C),\n",
    "        np.dot(np.random.randn(n,dim),C.T) + np.array([1,4]),\n",
    "    ]\n",
    "    y = np.hstack((np.zeros(n), np.ones(n)))\n",
    "\n",
    "    return X,y"
   ]
  },
  {
   "cell_type": "code",
   "execution_count": 5,
   "metadata": {},
   "outputs": [],
   "source": [
    "#### Plotting Function"
   ]
  },
  {
   "cell_type": "code",
   "execution_count": 6,
   "metadata": {},
   "outputs": [],
   "source": [
    "from scipy import linalg \n",
    "\n",
    "def plot_data(lda, X,y,y_pred, fig_index):\n",
    "    splot = plt.subplot(2,2,fig_index)\n",
    "    if fig_index == 1:\n",
    "        plt.title(\"Linear Discriminant Analysis\")\n",
    "        plt.ylabel(\"Data with\\n fixed covariance\")\n",
    "    elif fig_index == 2:\n",
    "        plt.title(\"Quadratic Disminant Analysis\")\n",
    "    elif fig_index == 3:\n",
    "        plt.ylabel(\"Data with\\n varying covariances\")\n",
    "    \n",
    "    tp = y == y_pred #true positive\n",
    "    tp0, tp1 = tp[y == 0], tp[y == 1]\n",
    "    X0, X1 = X[y == 0], X[y == 1]\n",
    "    X0_tp, X0_fp = X0[tp0], X0[~tp0]\n",
    "    X1_tp, X1_fp = X1[tp1], X1[~tp1]\n",
    "\n",
    "    #class 0: dots \n",
    "    plt.scatter(X0_tp[:,0],X0_tp[:,1], marker='.',color='red')\n",
    "    plt.scatter(X0_fp[:,0],X0_fp[:,1], marker=\"x\",color=\"#990000\",s=20)\n",
    "\n",
    "    #class 1: dots \n",
    "    plt.scatter(X1_tp[:,0],X1_tp[:,1], marker='.',color=\"blue\")\n",
    "    plt.scatter(X1_fp[:,0],X1_fp[:,1],marker='x',s=20,color=\"#000099\")\n",
    "\n",
    "    #class 0 and 1 : areas \n",
    "\n",
    "    nx, ny = 200, 100 \n",
    "    x_min, x_max = plt.xlim()\n",
    "    y_min, y_max = plt.ylim()\n",
    "    xx, yy = np.meshgrid(np.linspace(x_min, x_max, nx), np.linspace(y_min, y_max, ny))\n",
    "    Z = lda.predict_proba(np.c_[xx.ravel(),yy.ravel()])\n",
    "    Z = Z[:,1].reshape(xx.shape)\n",
    "    plt.pcolormesh(xx,yy,Z,cmap=\"red_blue_classes\",norm=colors.Normalize(0.0,1.0),zorder=0)\n",
    "    plt.contour(xx, yy, Z, [0.5],linewidths=2.0, colors=\"white\")\n",
    "\n",
    "    #mean \n",
    "    plt.plot(lda.means_[0][0],\n",
    "             lda.means[0][1],\n",
    "             \"*\",\n",
    "             color=\"yellow\",\n",
    "             markersize=15,\n",
    "             markeredgecolor=\"grey\",\n",
    "    )\n",
    "    plt.plot(\n",
    "        lda.means_[1][0],\n",
    "        lda.means_[1][1],\n",
    "        \"*\",\n",
    "        color=\"yellow\",\n",
    "        markersize=15,\n",
    "        markeredgecolor=\"grey\",\n",
    "    )\n",
    "    \n",
    "    return splot"
   ]
  },
  {
   "cell_type": "code",
   "execution_count": 7,
   "metadata": {},
   "outputs": [],
   "source": [
    "def plot_ellipse(splot, mean, cov, color):\n",
    "    v, w = linalg.eigh(cov)\n",
    "    u = w[0] / linalg.norm(w[0])\n",
    "    angle = np.arctan(u[1] /u[0])\n",
    "    angle = 180 * angle / np.pi #convert to degrees\n",
    "    #filled Gaussian at 2 standard deviation \n",
    "    ell = mpl.patches.Ellipse(\n",
    "        mean,\n",
    "        2 * v[0] ** 0.5,\n",
    "        2 * v[1] ** 0.5,\n",
    "        angle = 180 + angle,\n",
    "        facecolor = color,\n",
    "        edgecolor = \"black\",\n",
    "        linewidth= 2,\n",
    "    )\n",
    "    ell.set_clip_box(splot.bbox)\n",
    "    ell.set_alpha(0.2)\n",
    "    splot.add_artist(ell)\n",
    "    splot.set_xticks(())\n",
    "    splot.set_yticks(())\n",
    "\n",
    "def plt_lda_cov(lda, splot):\n",
    "    plot_ellipse(splot, lda.means_[0], lda.covariance_,\"red\")\n",
    "    plot_ellipse(splot, lda.means_[1], lda.covariance_, \"blue\")\n",
    "\n",
    "def plot_qda_cov(qda, splot):\n",
    "    plot_ellipse(splot, qda.means_[0], qda.covariance_[0], \"red\")\n",
    "    plot_ellipse(splot, qda.means_[1], qda.covariance_[1], \"blue\")\n",
    "    "
   ]
  },
  {
   "cell_type": "code",
   "execution_count": 8,
   "metadata": {},
   "outputs": [
    {
     "data": {
      "text/plain": [
       "Text(0.5, 0.98, 'Linear Discriminant Analysis vs Quadratic Discriminant Analysis')"
      ]
     },
     "execution_count": 8,
     "metadata": {},
     "output_type": "execute_result"
    },
    {
     "data": {
      "text/plain": [
       "<Figure size 720x576 with 0 Axes>"
      ]
     },
     "metadata": {},
     "output_type": "display_data"
    }
   ],
   "source": [
    "plt.figure(figsize=(10,8), facecolor=\"white\")\n",
    "plt.suptitle(\"Linear Discriminant Analysis vs Quadratic Discriminant Analysis\", y = 0.98, fontsize=15)\n",
    "\n",
    "\n",
    "from sklearn.discriminant_analysis import LinearDiscriminantAnalysis"
   ]
  },
  {
   "cell_type": "code",
   "execution_count": null,
   "metadata": {},
   "outputs": [],
   "source": []
  }
 ],
 "metadata": {
  "kernelspec": {
   "display_name": "Python 3",
   "language": "python",
   "name": "python3"
  },
  "language_info": {
   "codemirror_mode": {
    "name": "ipython",
    "version": 3
   },
   "file_extension": ".py",
   "mimetype": "text/x-python",
   "name": "python",
   "nbconvert_exporter": "python",
   "pygments_lexer": "ipython3",
   "version": "3.9.9"
  },
  "orig_nbformat": 4
 },
 "nbformat": 4,
 "nbformat_minor": 2
}
