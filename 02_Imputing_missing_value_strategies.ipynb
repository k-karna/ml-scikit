{
 "cells": [
  {
   "attachments": {},
   "cell_type": "markdown",
   "metadata": {},
   "source": [
    "#### Imputing Missing Values through Various Strategies"
   ]
  },
  {
   "cell_type": "code",
   "execution_count": 2,
   "metadata": {},
   "outputs": [],
   "source": [
    "import pandas as pd \n",
    "import numpy as np \n",
    "\n",
    "from sklearn import datasets as d \n",
    "\n",
    "iris = d.load_iris()\n",
    "iris_X = iris.data \n",
    "masking_array = np.random.binomial(1,.25,iris_X.shape).astype(bool)"
   ]
  },
  {
   "cell_type": "code",
   "execution_count": 3,
   "metadata": {},
   "outputs": [],
   "source": [
    "iris_X[masking_array] = np.nan"
   ]
  },
  {
   "cell_type": "code",
   "execution_count": 4,
   "metadata": {},
   "outputs": [
    {
     "data": {
      "text/plain": [
       "array([[ True, False, False, False],\n",
       "       [False, False, False, False],\n",
       "       [ True, False,  True,  True],\n",
       "       [False, False, False, False],\n",
       "       [False, False, False, False]])"
      ]
     },
     "execution_count": 4,
     "metadata": {},
     "output_type": "execute_result"
    }
   ],
   "source": [
    "masking_array[:5]"
   ]
  },
  {
   "cell_type": "code",
   "execution_count": 5,
   "metadata": {},
   "outputs": [
    {
     "data": {
      "text/plain": [
       "array([[nan, 3.5, 1.4, 0.2],\n",
       "       [4.9, 3. , 1.4, 0.2],\n",
       "       [nan, 3.2, nan, nan],\n",
       "       [4.6, 3.1, 1.5, 0.2],\n",
       "       [5. , 3.6, 1.4, 0.2]])"
      ]
     },
     "execution_count": 5,
     "metadata": {},
     "output_type": "execute_result"
    }
   ],
   "source": [
    "iris_X[:5]"
   ]
  },
  {
   "attachments": {},
   "cell_type": "markdown",
   "metadata": {},
   "source": [
    "#### Imputing strategies: \n",
    "##### `mean (default)` <br>\n",
    "##### `median` <br>\n",
    "##### `most_frequent (mode)` "
   ]
  },
  {
   "cell_type": "code",
   "execution_count": 6,
   "metadata": {},
   "outputs": [
    {
     "data": {
      "text/plain": [
       "array([[5.78018868, 3.5       , 1.4       , 0.2       ],\n",
       "       [4.9       , 3.        , 1.4       , 0.2       ],\n",
       "       [5.78018868, 3.2       , 3.74642857, 1.15929204],\n",
       "       [4.6       , 3.1       , 1.5       , 0.2       ],\n",
       "       [5.        , 3.6       , 1.4       , 0.2       ]])"
      ]
     },
     "execution_count": 6,
     "metadata": {},
     "output_type": "execute_result"
    }
   ],
   "source": [
    "from sklearn import impute \n",
    "imp = impute.SimpleImputer()\n",
    "iris_X_prime = imp.fit_transform(iris_X)\n",
    "iris_X_prime[:5]"
   ]
  },
  {
   "cell_type": "code",
   "execution_count": 7,
   "metadata": {},
   "outputs": [
    {
     "data": {
      "text/plain": [
       "1.4"
      ]
     },
     "execution_count": 7,
     "metadata": {},
     "output_type": "execute_result"
    }
   ],
   "source": [
    "#Notice the difference in the position [1,2]\n",
    "\n",
    "iris_X_prime[1,2]"
   ]
  },
  {
   "cell_type": "code",
   "execution_count": 8,
   "metadata": {},
   "outputs": [
    {
     "data": {
      "text/plain": [
       "1.4"
      ]
     },
     "execution_count": 8,
     "metadata": {},
     "output_type": "execute_result"
    }
   ],
   "source": [
    "iris_X[1,2]"
   ]
  },
  {
   "cell_type": "code",
   "execution_count": 9,
   "metadata": {},
   "outputs": [
    {
     "data": {
      "text/plain": [
       "array([[5.7 , 3.5 , 1.4 , 0.2 ],\n",
       "       [4.9 , 3.  , 1.4 , 0.2 ],\n",
       "       [5.7 , 3.2 , 4.25, 1.3 ],\n",
       "       [4.6 , 3.1 , 1.5 , 0.2 ],\n",
       "       [5.  , 3.6 , 1.4 , 0.2 ]])"
      ]
     },
     "execution_count": 9,
     "metadata": {},
     "output_type": "execute_result"
    }
   ],
   "source": [
    "#MEADIAN \n",
    "\n",
    "imp = impute.SimpleImputer(strategy='median')\n",
    "iris_X_prime = imp.fit_transform(iris_X)\n",
    "iris_X_prime[:5]"
   ]
  },
  {
   "cell_type": "code",
   "execution_count": 10,
   "metadata": {},
   "outputs": [
    {
     "data": {
      "text/plain": [
       "array([[-1. ,  3.5,  1.4,  0.2],\n",
       "       [ 4.9,  3. ,  1.4,  0.2],\n",
       "       [-1. ,  3.2, -1. , -1. ],\n",
       "       [ 4.6,  3.1,  1.5,  0.2],\n",
       "       [ 5. ,  3.6,  1.4,  0.2]])"
      ]
     },
     "execution_count": 10,
     "metadata": {},
     "output_type": "execute_result"
    }
   ],
   "source": [
    "#If missing values are -1, as it is possible \n",
    "\n",
    "iris_X[np.isnan(iris_X)] = -1 \n",
    "iris_X[:5]"
   ]
  },
  {
   "cell_type": "code",
   "execution_count": 11,
   "metadata": {},
   "outputs": [
    {
     "data": {
      "text/plain": [
       "array([[5.78018868, 3.5       , 1.4       , 0.2       ],\n",
       "       [4.9       , 3.        , 1.4       , 0.2       ],\n",
       "       [5.78018868, 3.2       , 3.74642857, 1.15929204],\n",
       "       [4.6       , 3.1       , 1.5       , 0.2       ],\n",
       "       [5.        , 3.6       , 1.4       , 0.2       ]])"
      ]
     },
     "execution_count": 11,
     "metadata": {},
     "output_type": "execute_result"
    }
   ],
   "source": [
    "#The using it with imputer will be as follows: \n",
    "\n",
    "imp = impute.SimpleImputer(missing_values=-1)\n",
    "iris_X_prime = imp.fit_transform(iris_X)\n",
    "iris_X_prime[:5]"
   ]
  },
  {
   "attachments": {},
   "cell_type": "markdown",
   "metadata": {},
   "source": [
    "##### Pandas functionality to fill missing value is bit less reusable"
   ]
  },
  {
   "cell_type": "code",
   "execution_count": 12,
   "metadata": {},
   "outputs": [
    {
     "data": {
      "text/plain": [
       "array([[-1. ,  3.5,  1.4,  0.2],\n",
       "       [ 4.9,  3. ,  1.4,  0.2],\n",
       "       [-1. ,  3.2, -1. , -1. ],\n",
       "       [ 4.6,  3.1,  1.5,  0.2],\n",
       "       [ 5. ,  3.6,  1.4,  0.2]])"
      ]
     },
     "execution_count": 12,
     "metadata": {},
     "output_type": "execute_result"
    }
   ],
   "source": [
    "iris_X_prime = np.where(pd.DataFrame(iris_X).isnull(),-1,iris_X)\n",
    "iris_X_prime[:5]"
   ]
  },
  {
   "cell_type": "code",
   "execution_count": 13,
   "metadata": {},
   "outputs": [
    {
     "data": {
      "text/plain": [
       "array([[-1. ,  3.5,  1.4,  0.2],\n",
       "       [ 4.9,  3. ,  1.4,  0.2],\n",
       "       [-1. ,  3.2, -1. , -1. ],\n",
       "       [ 4.6,  3.1,  1.5,  0.2],\n",
       "       [ 5. ,  3.6,  1.4,  0.2]])"
      ]
     },
     "execution_count": 13,
     "metadata": {},
     "output_type": "execute_result"
    }
   ],
   "source": [
    "pd.DataFrame(iris_X).fillna(-1)[:5].values"
   ]
  },
  {
   "attachments": {},
   "cell_type": "markdown",
   "metadata": {},
   "source": [
    "### Linear Modelling when we have Outliers"
   ]
  },
  {
   "cell_type": "code",
   "execution_count": 14,
   "metadata": {},
   "outputs": [
    {
     "data": {
      "text/plain": [
       "[<matplotlib.lines.Line2D at 0x1e0797f7ac0>]"
      ]
     },
     "execution_count": 14,
     "metadata": {},
     "output_type": "execute_result"
    },
    {
     "data": {
      "image/png": "[encoded data removed]",
      "text/plain": [
       "<Figure size 432x288 with 1 Axes>"
      ]
     },
     "metadata": {
      "needs_background": "light"
     },
     "output_type": "display_data"
    }
   ],
   "source": [
    "import matplotlib.pyplot as plt \n",
    "%matplotlib inline \n",
    "\n",
    "num_points = 100 \n",
    "x_vals = np.arange(num_points)\n",
    "y_truth = 2 * x_vals \n",
    "plt.plot(x_vals, y_truth)"
   ]
  },
  {
   "attachments": {},
   "cell_type": "markdown",
   "metadata": {},
   "source": [
    "##### Adding noise to that data and label it as `y_noisy`"
   ]
  },
  {
   "cell_type": "code",
   "execution_count": 15,
   "metadata": {},
   "outputs": [
    {
     "name": "stdout",
     "output_type": "stream",
     "text": [
      "[     0      2      4      6      8     10     12     14     16     18\n",
      "     20     22     24     26     28     30     32     34     36     38\n",
      "  -3300  -3628  -3972  -4332  -4708  -5100  -5508  -5932  -6372  -6828\n",
      "  -7300  -7788  -8292  -8812  -9348  -9900 -10468 -11052 -11652 -12268\n",
      "     80     82     84     86     88     90     92     94     96     98\n",
      "    100    102    104    106    108    110    112    114    116    118\n",
      "    120    122    124    126    128    130    132    134    136    138\n",
      "    140    142    144    146    148    150    152    154    156    158\n",
      "    160    162    164    166    168    170    172    174    176    178\n",
      "    180    182    184    186    188    190    192    194    196    198]\n"
     ]
    },
    {
     "data": {
      "text/plain": [
       "<matplotlib.collections.PathCollection at 0x1e07b8f0b50>"
      ]
     },
     "execution_count": 15,
     "metadata": {},
     "output_type": "execute_result"
    },
    {
     "data": {
      "image/png": "[encoded data removed]",
      "text/plain": [
       "<Figure size 432x288 with 1 Axes>"
      ]
     },
     "metadata": {
      "needs_background": "light"
     },
     "output_type": "display_data"
    }
   ],
   "source": [
    "y_noisy = y_truth.copy()\n",
    "#changing y-values of some points in the line \n",
    "y_noisy[20:40] = y_noisy[20:40] * (-4 * x_vals[20:40]) - 100 \n",
    "\n",
    "print(y_noisy)\n",
    "\n",
    "plt.title(\"Noise in y-direction\")\n",
    "plt.xlim([0,100])\n",
    "plt.scatter(x_vals, y_noisy, marker='x')"
   ]
  },
  {
   "cell_type": "code",
   "execution_count": 16,
   "metadata": {},
   "outputs": [],
   "source": [
    "#Import both LinearRegression and TheilSenRegressor \n",
    "\n",
    "from sklearn.linear_model import LinearRegression, TheilSenRegressor \n",
    "from sklearn.metrics import r2_score, mean_absolute_error "
   ]
  },
  {
   "cell_type": "code",
   "execution_count": 17,
   "metadata": {},
   "outputs": [
    {
     "name": "stdout",
     "output_type": "stream",
     "text": [
      "OLS R-Squared:  -904.7565621836717 Mean Absolute Error:  1480.9397011701171\n",
      "TSR R-Squared:  0.9999999999265342 Mean Absolute Error:  0.0004425033844090672\n"
     ]
    },
    {
     "data": {
      "text/plain": [
       "<matplotlib.legend.Legend at 0x1e07b968fd0>"
      ]
     },
     "execution_count": 17,
     "metadata": {},
     "output_type": "execute_result"
    },
    {
     "data": {
      "image/png": "[encoded data removed]",
      "text/plain": [
       "<Figure size 432x288 with 1 Axes>"
      ]
     },
     "metadata": {
      "needs_background": "light"
     },
     "output_type": "display_data"
    }
   ],
   "source": [
    "named_estimators = [('OLS',LinearRegression()),('TSR',TheilSenRegressor())]\n",
    "\n",
    "for num_index, est in enumerate(named_estimators):\n",
    "    y_pred = est[1].fit(x_vals.reshape(-1,1),y_noisy).predict(x_vals.reshape(-1,1))\n",
    "    print(est[0],\"R-Squared: \",r2_score(y_truth,y_pred),\"Mean Absolute Error: \",mean_absolute_error(y_truth,y_pred))\n",
    "    plt.plot(x_vals,y_pred,label=est[0])\n",
    "plt.plot(x_vals, y_truth, label='True Line')\n",
    "plt.legend(loc='upper left')"
   ]
  },
  {
   "attachments": {},
   "cell_type": "markdown",
   "metadata": {},
   "source": [
    "###### Theil-Sen overlaps the real line"
   ]
  },
  {
   "attachments": {},
   "cell_type": "markdown",
   "metadata": {},
   "source": [
    "##### Next, plotting the dataset and the estimated lines "
   ]
  },
  {
   "cell_type": "code",
   "execution_count": 18,
   "metadata": {},
   "outputs": [
    {
     "data": {
      "text/plain": [
       "<matplotlib.collections.PathCollection at 0x1e07ba01340>"
      ]
     },
     "execution_count": 18,
     "metadata": {},
     "output_type": "execute_result"
    },
    {
     "data": {
      "image/png": "[encoded data removed]",
      "text/plain": [
       "<Figure size 432x288 with 1 Axes>"
      ]
     },
     "metadata": {
      "needs_background": "light"
     },
     "output_type": "display_data"
    }
   ],
   "source": [
    "for num_index, est in enumerate(named_estimators):\n",
    "    y_pred = est[1].fit(x_vals.reshape(-1,1),y_noisy).predict(x_vals.reshape(-1,1))\n",
    "    plt.plot(x_vals, y_pred, label = est[0])\n",
    "\n",
    "plt.legend(loc='upper right')\n",
    "plt.title(\"Noise in y-direction\")\n",
    "plt.xlim([0,100])\n",
    "plt.scatter(x_vals, y_noisy, marker='x',color='red')"
   ]
  },
  {
   "attachments": {},
   "cell_type": "markdown",
   "metadata": {},
   "source": [
    "`TheilSenRegressor` is a robust estimator - performs well in the presence of outliers. OLS regression, can decrease good results"
   ]
  },
  {
   "attachments": {},
   "cell_type": "markdown",
   "metadata": {},
   "source": [
    "Trying other estimators"
   ]
  },
  {
   "cell_type": "code",
   "execution_count": 19,
   "metadata": {},
   "outputs": [],
   "source": [
    "from sklearn.linear_model import Ridge, LinearRegression, TheilSenRegressor, RANSACRegressor, ElasticNet, HuberRegressor \n",
    "from sklearn.metrics import r2_score, mean_absolute_error"
   ]
  },
  {
   "cell_type": "code",
   "execution_count": 20,
   "metadata": {},
   "outputs": [],
   "source": [
    "named_estimators = [('OLS', LinearRegression()),('Ridge',Ridge()), ('TSR',TheilSenRegressor()),\n",
    "                    ('RANSAC',RANSACRegressor()),('Elastic Net',ElasticNet()),('Huber',HuberRegressor())]"
   ]
  },
  {
   "cell_type": "code",
   "execution_count": 21,
   "metadata": {},
   "outputs": [
    {
     "name": "stdout",
     "output_type": "stream",
     "text": [
      "OLS R-Squared:  -904.7565621836717 Mean Absolute Error:  1480.9397011701171\n",
      "Ridge R-Squared:  -904.7501604538695 Mean Absolute Error:  1480.9385250222022\n",
      "TSR R-Squared:  0.9999999999265342 Mean Absolute Error:  0.0004425033844090672\n",
      "RANSAC R-Squared:  1.0 Mean Absolute Error:  0.0\n",
      "Elastic Net R-Squared:  -904.4272711687513 Mean Absolute Error:  1480.8791832083955\n",
      "Huber R-Squared:  0.9999999867470167 Mean Absolute Error:  0.006644972890123926\n"
     ]
    }
   ],
   "source": [
    "for num_index, est in enumerate(named_estimators):\n",
    "    y_pred = est[1].fit(x_vals.reshape(-1,1),y_noisy).predict(x_vals.reshape(-1,1))\n",
    "    print(est[0],\"R-Squared: \", r2_score(y_truth,y_pred),\"Mean Absolute Error: \",mean_absolute_error(y_truth,y_pred))"
   ]
  },
  {
   "attachments": {},
   "cell_type": "markdown",
   "metadata": {},
   "source": [
    "##### Putting it all together with PipeLine"
   ]
  },
  {
   "cell_type": "code",
   "execution_count": 22,
   "metadata": {},
   "outputs": [
    {
     "data": {
      "text/plain": [
       "array([[5.1, 3.5, 1.4, 0.2],\n",
       "       [4.9, 3. , 1.4, 0.2],\n",
       "       [4.7, nan, 1.3, 0.2],\n",
       "       [4.6, 3.1, 1.5, 0.2],\n",
       "       [5. , nan, nan, 0.2]])"
      ]
     },
     "execution_count": 22,
     "metadata": {},
     "output_type": "execute_result"
    }
   ],
   "source": [
    "from sklearn.datasets import load_iris \n",
    "import numpy as np \n",
    "iris = load_iris()\n",
    "iris_data = iris.data \n",
    "mask = np.random.binomial(1,.25, iris_data.shape).astype(bool)\n",
    "iris_data[mask] = np.nan \n",
    "iris_data[:5]"
   ]
  },
  {
   "cell_type": "code",
   "execution_count": 23,
   "metadata": {},
   "outputs": [],
   "source": [
    "#Next, imputing first for the missing values,\n",
    "#and then PCA \n",
    "\n",
    "from sklearn import pipeline, preprocessing, decomposition, impute \n",
    "\n",
    "#creating IMPUTER and PCA classes\n",
    "pca = decomposition.PCA() \n",
    "imputer = impute.SimpleImputer()"
   ]
  },
  {
   "cell_type": "code",
   "execution_count": 24,
   "metadata": {},
   "outputs": [
    {
     "data": {
      "text/plain": [
       "array([[-2.63732384,  0.18440746, -0.16205286,  0.23616388],\n",
       "       [-2.6663669 , -0.13723681, -0.12539919, -0.1932054 ],\n",
       "       [-2.82224298, -0.28006933, -0.07577852, -0.13367274],\n",
       "       [-2.68253483, -0.41274729, -0.1287365 , -0.00929935],\n",
       "       [-0.57970608, -0.76260092, -0.83825711,  0.15075786]])"
      ]
     },
     "execution_count": 24,
     "metadata": {},
     "output_type": "execute_result"
    }
   ],
   "source": [
    "#Loading them in PIPELINE \n",
    "\n",
    "pipe = pipeline.Pipeline([('imputer',imputer),('pca',pca)])\n",
    "iris_data_transformed = pipe.fit_transform(iris_data)\n",
    "iris_data_transformed[:5]"
   ]
  },
  {
   "cell_type": "code",
   "execution_count": 27,
   "metadata": {},
   "outputs": [
    {
     "data": {
      "text/plain": [
       "array([[-2.63732384,  0.18440746, -0.16205286,  0.23616388],\n",
       "       [-2.6663669 , -0.13723681, -0.12539919, -0.1932054 ],\n",
       "       [-2.82224298, -0.28006933, -0.07577852, -0.13367274],\n",
       "       [-2.68253483, -0.41274729, -0.1287365 , -0.00929935],\n",
       "       [-0.57970608, -0.76260092, -0.83825711,  0.15075786]])"
      ]
     },
     "execution_count": 27,
     "metadata": {},
     "output_type": "execute_result"
    }
   ],
   "source": [
    "pipe2 = pipeline.make_pipeline(imputer, pca) \n",
    "pipe2.steps \n",
    "[('imputer', impute.SimpleImputer(copy=True, missing_values='NaN',strategy='mean',verbose=0)),\n",
    " ('pca',decomposition.PCA(copy=True, iterated_power='auto',n_components=None,random_state=None, svd_solver='auto',tol=0.0,whiten=False))]\n",
    "\n",
    "iris_data_transformed2 = pipe2.fit_transform(iris_data)\n",
    "iris_data_transformed2[:5]\n"
   ]
  },
  {
   "cell_type": "code",
   "execution_count": 31,
   "metadata": {},
   "outputs": [
    {
     "data": {
      "text/plain": [
       "Pipeline(steps=[('simpleimputer', SimpleImputer()),\n",
       "                ('pca', PCA(n_components=2))])"
      ]
     },
     "execution_count": 31,
     "metadata": {},
     "output_type": "execute_result"
    }
   ],
   "source": [
    "#Accessing the attributes of each object in a pipeline\n",
    "\n",
    "pipe2.set_params(pca__n_components=2)"
   ]
  },
  {
   "cell_type": "code",
   "execution_count": 32,
   "metadata": {},
   "outputs": [
    {
     "data": {
      "text/plain": [
       "array([[-2.63732384,  0.18440746],\n",
       "       [-2.6663669 , -0.13723681],\n",
       "       [-2.82224298, -0.28006933],\n",
       "       [-2.68253483, -0.41274729],\n",
       "       [-0.57970608, -0.76260092]])"
      ]
     },
     "execution_count": 32,
     "metadata": {},
     "output_type": "execute_result"
    }
   ],
   "source": [
    "iris_data_transformed3 = pipe2.fit_transform(iris_data)\n",
    "iris_data_transformed3[:5]"
   ]
  }
 ],
 "metadata": {
  "kernelspec": {
   "display_name": "Python 3",
   "language": "python",
   "name": "python3"
  },
  "language_info": {
   "codemirror_mode": {
    "name": "ipython",
    "version": 3
   },
   "file_extension": ".py",
   "mimetype": "text/x-python",
   "name": "python",
   "nbconvert_exporter": "python",
   "pygments_lexer": "ipython3",
   "version": "3.9.9"
  },
  "orig_nbformat": 4
 },
 "nbformat": 4,
 "nbformat_minor": 2
}
