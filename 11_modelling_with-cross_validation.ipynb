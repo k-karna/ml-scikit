{
 "cells": [
  {
   "attachments": {},
   "cell_type": "markdown",
   "metadata": {},
   "source": [
    "#### Selecting a model with Cross-Validation\n",
    "##### Fundamental question in machine learning : how do we select a model that predicts well?"
   ]
  },
  {
   "cell_type": "code",
   "execution_count": 1,
   "metadata": {},
   "outputs": [],
   "source": [
    "from sklearn import datasets \n",
    "\n",
    "iris = datasets.load_iris()\n",
    "X = iris.data[:,2:]\n",
    "y = iris.target "
   ]
  },
  {
   "cell_type": "code",
   "execution_count": 2,
   "metadata": {},
   "outputs": [],
   "source": [
    "#train-test split \n",
    "from sklearn.model_selection import train_test_split \n",
    "X_train, X_test, y_train, y_test = train_test_split(X,y,stratify=y, random_state=7)\n"
   ]
  },
  {
   "cell_type": "code",
   "execution_count": 3,
   "metadata": {},
   "outputs": [],
   "source": [
    "#instantiating two nearest-neighbour \n",
    "\n",
    "from sklearn.neighbors import KNeighborsClassifier \n",
    "\n",
    "knn3 = KNeighborsClassifier(n_neighbors=3)\n",
    "knn5 = KNeighborsClassifier(n_neighbors=5)"
   ]
  },
  {
   "attachments": {},
   "cell_type": "markdown",
   "metadata": {},
   "source": [
    "###### Now scoring both algorithms using `cross_val_score` "
   ]
  },
  {
   "cell_type": "code",
   "execution_count": 4,
   "metadata": {},
   "outputs": [],
   "source": [
    "from sklearn.model_selection import cross_val_score \n",
    "\n",
    "knn3_scores = cross_val_score(knn3, X_train, y_train, cv=4)\n",
    "knn5_scores = cross_val_score(knn5, X_train, y_train, cv=4)"
   ]
  },
  {
   "cell_type": "code",
   "execution_count": 5,
   "metadata": {},
   "outputs": [
    {
     "data": {
      "text/plain": [
       "array([0.96428571, 0.92857143, 0.89285714, 1.        ])"
      ]
     },
     "execution_count": 5,
     "metadata": {},
     "output_type": "execute_result"
    }
   ],
   "source": [
    "knn3_scores"
   ]
  },
  {
   "cell_type": "code",
   "execution_count": 6,
   "metadata": {},
   "outputs": [
    {
     "data": {
      "text/plain": [
       "array([0.96428571, 0.96428571, 0.92857143, 1.        ])"
      ]
     },
     "execution_count": 6,
     "metadata": {},
     "output_type": "execute_result"
    }
   ],
   "source": [
    "knn5_scores"
   ]
  },
  {
   "attachments": {},
   "cell_type": "markdown",
   "metadata": {},
   "source": [
    "###### Getting $Mean$ of both list "
   ]
  },
  {
   "cell_type": "code",
   "execution_count": 8,
   "metadata": {},
   "outputs": [
    {
     "name": "stdout",
     "output_type": "stream",
     "text": [
      "Mean of Knn_3:  0.9464285714285714\n",
      "Mean of Knn_5:  0.9642857142857143\n"
     ]
    }
   ],
   "source": [
    "print(\"Mean of Knn_3: \",knn3_scores.mean())\n",
    "print(\"Mean of Knn_5: \",knn5_scores.mean())"
   ]
  },
  {
   "attachments": {},
   "cell_type": "markdown",
   "metadata": {},
   "source": [
    "###### Getting $Standard Deviation$ of both list:"
   ]
  },
  {
   "cell_type": "code",
   "execution_count": 9,
   "metadata": {},
   "outputs": [
    {
     "name": "stdout",
     "output_type": "stream",
     "text": [
      "Standard Deviation of Knn_3:  0.039929785312496226\n",
      "Standard Deviation of Knn_5:  0.025253813613805257\n"
     ]
    }
   ],
   "source": [
    "print(\"Standard Deviation of Knn_3: \", knn3_scores.std())\n",
    "print(\"Standard Deviation of Knn_5: \", knn5_scores.std())"
   ]
  },
  {
   "attachments": {},
   "cell_type": "markdown",
   "metadata": {},
   "source": [
    "###### Knn_5 performed better and bit stable, therefore to be picked"
   ]
  },
  {
   "attachments": {},
   "cell_type": "markdown",
   "metadata": {},
   "source": [
    "#### K-Fold Cross Validation"
   ]
  },
  {
   "cell_type": "code",
   "execution_count": 10,
   "metadata": {},
   "outputs": [],
   "source": [
    "#Working on demo dataset \n",
    "\n",
    "import numpy as np \n",
    "X = np.array([[1,2],[3,4],[5,6],[7,8],[1,2],[3,4],[5,6],[7,8]])\n",
    "y = np.array([1,2,1,2,1,2,1,2])"
   ]
  },
  {
   "cell_type": "code",
   "execution_count": 11,
   "metadata": {},
   "outputs": [],
   "source": [
    "from sklearn.model_selection import KFold \n",
    "kf = KFold(n_splits=4)"
   ]
  },
  {
   "cell_type": "code",
   "execution_count": 12,
   "metadata": {},
   "outputs": [
    {
     "name": "stdout",
     "output_type": "stream",
     "text": [
      "Round:  1 Training Indices:  [2 3 4 5 6 7] Testing Indices:  [0 1]\n",
      "Round:  2 Training Indices:  [0 1 4 5 6 7] Testing Indices:  [2 3]\n",
      "Round:  3 Training Indices:  [0 1 2 3 6 7] Testing Indices:  [4 5]\n",
      "Round:  4 Training Indices:  [0 1 2 3 4 5] Testing Indices:  [6 7]\n"
     ]
    }
   ],
   "source": [
    "#now iterating through the generator \n",
    "\n",
    "cc = 1 \n",
    "for train_index, test_index in kf.split(X):\n",
    "    print(\"Round: \",cc, \"Training Indices: \",train_index, \"Testing Indices: \",test_index)\n",
    "    cc +=1"
   ]
  },
  {
   "cell_type": "code",
   "execution_count": 13,
   "metadata": {},
   "outputs": [
    {
     "data": {
      "text/plain": [
       "4"
      ]
     },
     "execution_count": 13,
     "metadata": {},
     "output_type": "execute_result"
    }
   ],
   "source": [
    "kf.get_n_splits()"
   ]
  },
  {
   "cell_type": "code",
   "execution_count": 16,
   "metadata": {},
   "outputs": [
    {
     "data": {
      "text/plain": [
       "(array([0, 1, 2, 3, 4, 5]), array([6, 7]))"
      ]
     },
     "execution_count": 16,
     "metadata": {},
     "output_type": "execute_result"
    }
   ],
   "source": [
    "#To view the data in the folds themselves, store the generator as list \n",
    "indices_list = list(kf.split(X))\n",
    "indices_list[3]"
   ]
  },
  {
   "cell_type": "code",
   "execution_count": 18,
   "metadata": {},
   "outputs": [
    {
     "data": {
      "text/plain": [
       "array([[1, 2],\n",
       "       [3, 4],\n",
       "       [5, 6],\n",
       "       [7, 8],\n",
       "       [1, 2],\n",
       "       [3, 4]])"
      ]
     },
     "execution_count": 18,
     "metadata": {},
     "output_type": "execute_result"
    }
   ],
   "source": [
    "train_indices, test_indices = indices_list[3]\n",
    "X[train_indices]"
   ]
  },
  {
   "cell_type": "code",
   "execution_count": 19,
   "metadata": {},
   "outputs": [
    {
     "data": {
      "text/plain": [
       "array([1, 2, 1, 2, 1, 2])"
      ]
     },
     "execution_count": 19,
     "metadata": {},
     "output_type": "execute_result"
    }
   ],
   "source": [
    "y[train_indices]"
   ]
  },
  {
   "cell_type": "code",
   "execution_count": 20,
   "metadata": {},
   "outputs": [
    {
     "data": {
      "text/plain": [
       "array([[5, 6],\n",
       "       [7, 8]])"
      ]
     },
     "execution_count": 20,
     "metadata": {},
     "output_type": "execute_result"
    }
   ],
   "source": [
    "X[test_indices]"
   ]
  },
  {
   "cell_type": "code",
   "execution_count": 21,
   "metadata": {},
   "outputs": [
    {
     "data": {
      "text/plain": [
       "array([1, 2])"
      ]
     },
     "execution_count": 21,
     "metadata": {},
     "output_type": "execute_result"
    }
   ],
   "source": [
    "y[test_indices]"
   ]
  },
  {
   "attachments": {},
   "cell_type": "markdown",
   "metadata": {},
   "source": [
    "##### Balanced Cross-Validation\n",
    "##### Using `stratified cross-validation` this way different sets will have different values for the target"
   ]
  },
  {
   "cell_type": "code",
   "execution_count": 22,
   "metadata": {},
   "outputs": [],
   "source": [
    "from sklearn.model_selection import StratifiedKFold \n",
    "skf = StratifiedKFold(n_splits=4)"
   ]
  },
  {
   "cell_type": "code",
   "execution_count": 24,
   "metadata": {},
   "outputs": [
    {
     "name": "stdout",
     "output_type": "stream",
     "text": [
      "Round:  1 Training Indices:  [2 3 4 5 6 7] Testing Indices:  [0 1]\n",
      "Round:  2 Training Indices:  [0 1 4 5 6 7] Testing Indices:  [2 3]\n",
      "Round:  3 Training Indices:  [0 1 2 3 6 7] Testing Indices:  [4 5]\n",
      "Round:  4 Training Indices:  [0 1 2 3 4 5] Testing Indices:  [6 7]\n"
     ]
    }
   ],
   "source": [
    "\n",
    "cc = 1 \n",
    "for train_index, test_index in skf.split(X,y):\n",
    "    print(\"Round: \",cc, \"Training Indices: \",train_index, \"Testing Indices: \",test_index)\n",
    "    cc +=1"
   ]
  },
  {
   "attachments": {},
   "cell_type": "markdown",
   "metadata": {},
   "source": [
    "##### `stratefied K-Fold` takes two arguement $X$ and $y$. It tries to distribtue the target $y$ with the same distribution in each of the fold sets"
   ]
  },
  {
   "attachments": {},
   "cell_type": "markdown",
   "metadata": {},
   "source": [
    "##### `StratifiedShuffleSplit` reshuffle the stratified fold"
   ]
  },
  {
   "cell_type": "code",
   "execution_count": 25,
   "metadata": {},
   "outputs": [],
   "source": [
    "from sklearn.model_selection import StratifiedShuffleSplit \n",
    "sss = StratifiedShuffleSplit(n_splits=5, test_size=0.25)"
   ]
  },
  {
   "cell_type": "code",
   "execution_count": 26,
   "metadata": {},
   "outputs": [
    {
     "name": "stdout",
     "output_type": "stream",
     "text": [
      "Round:  1 Training Indices:  [0 3 4 2 5 1] Testing Indices:  [6 7]\n",
      "Round:  2 Training Indices:  [5 3 4 2 0 1] Testing Indices:  [7 6]\n",
      "Round:  3 Training Indices:  [4 5 6 1 0 7] Testing Indices:  [2 3]\n",
      "Round:  4 Training Indices:  [5 2 3 0 4 7] Testing Indices:  [6 1]\n",
      "Round:  5 Training Indices:  [3 5 7 6 4 2] Testing Indices:  [0 1]\n"
     ]
    }
   ],
   "source": [
    "\n",
    "cc = 1 \n",
    "for train_index, test_index in sss.split(X,y):\n",
    "    print(\"Round: \",cc, \"Training Indices: \",train_index, \"Testing Indices: \",test_index)\n",
    "    cc +=1"
   ]
  },
  {
   "attachments": {},
   "cell_type": "markdown",
   "metadata": {},
   "source": [
    "##### Cross-Validation with ShuffleSplit"
   ]
  },
  {
   "cell_type": "code",
   "execution_count": 27,
   "metadata": {},
   "outputs": [
    {
     "data": {
      "text/plain": [
       "Text(0.5, 1.0, 'Histogram of Dataset')"
      ]
     },
     "execution_count": 27,
     "metadata": {},
     "output_type": "execute_result"
    },
    {
     "data": {
      "image/png": "[encoded data removed]",
      "text/plain": [
       "<Figure size 720x504 with 1 Axes>"
      ]
     },
     "metadata": {
      "needs_background": "light"
     },
     "output_type": "display_data"
    }
   ],
   "source": [
    "import matplotlib.pyplot as plt \n",
    "%matplotlib inline \n",
    "\n",
    "true_mean = 1000 \n",
    "true_std = 10 \n",
    "N = 1000 \n",
    "dataset = np.random.normal(loc=true_mean, scale=true_std, size=N)\n",
    "\n",
    "fig, ax = plt.subplots(figsize=(10,7))\n",
    "ax.hist(dataset, color='k',alpha=.65, histtype='stepfilled',bins=50)\n",
    "ax.set_title(\"Histogram of Dataset\")"
   ]
  },
  {
   "attachments": {},
   "cell_type": "markdown",
   "metadata": {},
   "source": [
    "###### Estimating the mean of half of the dataset "
   ]
  },
  {
   "cell_type": "code",
   "execution_count": 33,
   "metadata": {},
   "outputs": [
    {
     "data": {
      "text/plain": [
       "1000.2102346526106"
      ]
     },
     "execution_count": 33,
     "metadata": {},
     "output_type": "execute_result"
    }
   ],
   "source": [
    "holdout_set = dataset[:500]\n",
    "fitting_set = dataset[500:]\n",
    "estimate = fitting_set[:500].mean()\n",
    "estimate"
   ]
  },
  {
   "cell_type": "code",
   "execution_count": 34,
   "metadata": {},
   "outputs": [
    {
     "data": {
      "text/plain": [
       "999.9317680110954"
      ]
     },
     "execution_count": 34,
     "metadata": {},
     "output_type": "execute_result"
    }
   ],
   "source": [
    "#Mean of the whole dataset \n",
    "data_mean = dataset.mean()\n",
    "data_mean"
   ]
  },
  {
   "cell_type": "code",
   "execution_count": 35,
   "metadata": {},
   "outputs": [
    {
     "data": {
      "text/plain": [
       "[<matplotlib.lines.Line2D at 0x2c0bc2d86d0>]"
      ]
     },
     "execution_count": 35,
     "metadata": {},
     "output_type": "execute_result"
    },
    {
     "data": {
      "image/png": "[encoded data removed]",
      "text/plain": [
       "<Figure size 720x360 with 1 Axes>"
      ]
     },
     "metadata": {
      "needs_background": "light"
     },
     "output_type": "display_data"
    }
   ],
   "source": [
    "#Visualizing the behaviour of ShuffleSplit \n",
    "\n",
    "from sklearn.model_selection import ShuffleSplit \n",
    "shuffle_split = ShuffleSplit(n_splits=100, test_size=.5,random_state=0)\n",
    "\n",
    "mean_p = []\n",
    "estimate_closeness = []\n",
    "\n",
    "for train_index, not_used_index in shuffle_split.split(fitting_set):\n",
    "    mean_p.append(fitting_set[train_index].mean())\n",
    "    shuf_estimate = np.mean(mean_p)\n",
    "    estimate_closeness.append(np.abs(shuf_estimate - data_mean))\n",
    "\n",
    "plt.figure(figsize=(10,5))\n",
    "plt.plot(estimate_closeness)"
   ]
  },
  {
   "cell_type": "code",
   "execution_count": null,
   "metadata": {},
   "outputs": [],
   "source": []
  }
 ],
 "metadata": {
  "kernelspec": {
   "display_name": "Python 3",
   "language": "python",
   "name": "python3"
  },
  "language_info": {
   "codemirror_mode": {
    "name": "ipython",
    "version": 3
   },
   "file_extension": ".py",
   "mimetype": "text/x-python",
   "name": "python",
   "nbconvert_exporter": "python",
   "pygments_lexer": "ipython3",
   "version": "3.9.9"
  },
  "orig_nbformat": 4
 },
 "nbformat": 4,
 "nbformat_minor": 2
}
